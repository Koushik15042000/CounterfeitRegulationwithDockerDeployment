{
 "cells": [
  {
   "cell_type": "code",
   "execution_count": 1,
   "metadata": {},
   "outputs": [],
   "source": [
    "## Importing the Packages\n",
    "import pandas as pd\n",
    "import numpy as np\n",
    "import matplotlib.pyplot as plt\n",
    "%matplotlib inline"
   ]
  },
  {
   "cell_type": "code",
   "execution_count": 2,
   "metadata": {},
   "outputs": [],
   "source": [
    "## To Import Dataset into a Variable\n",
    "df = pd.read_csv('BankNote_Authentication.csv')"
   ]
  },
  {
   "cell_type": "code",
   "execution_count": 3,
   "metadata": {},
   "outputs": [
    {
     "data": {
      "text/html": [
       "<div>\n",
       "<style scoped>\n",
       "    .dataframe tbody tr th:only-of-type {\n",
       "        vertical-align: middle;\n",
       "    }\n",
       "\n",
       "    .dataframe tbody tr th {\n",
       "        vertical-align: top;\n",
       "    }\n",
       "\n",
       "    .dataframe thead th {\n",
       "        text-align: right;\n",
       "    }\n",
       "</style>\n",
       "<table border=\"1\" class=\"dataframe\">\n",
       "  <thead>\n",
       "    <tr style=\"text-align: right;\">\n",
       "      <th></th>\n",
       "      <th>variance</th>\n",
       "      <th>skewness</th>\n",
       "      <th>curtosis</th>\n",
       "      <th>entropy</th>\n",
       "      <th>class</th>\n",
       "    </tr>\n",
       "  </thead>\n",
       "  <tbody>\n",
       "    <tr>\n",
       "      <th>0</th>\n",
       "      <td>3.62160</td>\n",
       "      <td>8.6661</td>\n",
       "      <td>-2.80730</td>\n",
       "      <td>-0.44699</td>\n",
       "      <td>0</td>\n",
       "    </tr>\n",
       "    <tr>\n",
       "      <th>1</th>\n",
       "      <td>4.54590</td>\n",
       "      <td>8.1674</td>\n",
       "      <td>-2.45860</td>\n",
       "      <td>-1.46210</td>\n",
       "      <td>0</td>\n",
       "    </tr>\n",
       "    <tr>\n",
       "      <th>2</th>\n",
       "      <td>3.86600</td>\n",
       "      <td>-2.6383</td>\n",
       "      <td>1.92420</td>\n",
       "      <td>0.10645</td>\n",
       "      <td>0</td>\n",
       "    </tr>\n",
       "    <tr>\n",
       "      <th>3</th>\n",
       "      <td>3.45660</td>\n",
       "      <td>9.5228</td>\n",
       "      <td>-4.01120</td>\n",
       "      <td>-3.59440</td>\n",
       "      <td>0</td>\n",
       "    </tr>\n",
       "    <tr>\n",
       "      <th>4</th>\n",
       "      <td>0.32924</td>\n",
       "      <td>-4.4552</td>\n",
       "      <td>4.57180</td>\n",
       "      <td>-0.98880</td>\n",
       "      <td>0</td>\n",
       "    </tr>\n",
       "    <tr>\n",
       "      <th>5</th>\n",
       "      <td>4.36840</td>\n",
       "      <td>9.6718</td>\n",
       "      <td>-3.96060</td>\n",
       "      <td>-3.16250</td>\n",
       "      <td>0</td>\n",
       "    </tr>\n",
       "    <tr>\n",
       "      <th>6</th>\n",
       "      <td>3.59120</td>\n",
       "      <td>3.0129</td>\n",
       "      <td>0.72888</td>\n",
       "      <td>0.56421</td>\n",
       "      <td>0</td>\n",
       "    </tr>\n",
       "    <tr>\n",
       "      <th>7</th>\n",
       "      <td>2.09220</td>\n",
       "      <td>-6.8100</td>\n",
       "      <td>8.46360</td>\n",
       "      <td>-0.60216</td>\n",
       "      <td>0</td>\n",
       "    </tr>\n",
       "    <tr>\n",
       "      <th>8</th>\n",
       "      <td>3.20320</td>\n",
       "      <td>5.7588</td>\n",
       "      <td>-0.75345</td>\n",
       "      <td>-0.61251</td>\n",
       "      <td>0</td>\n",
       "    </tr>\n",
       "    <tr>\n",
       "      <th>9</th>\n",
       "      <td>1.53560</td>\n",
       "      <td>9.1772</td>\n",
       "      <td>-2.27180</td>\n",
       "      <td>-0.73535</td>\n",
       "      <td>0</td>\n",
       "    </tr>\n",
       "  </tbody>\n",
       "</table>\n",
       "</div>"
      ],
      "text/plain": [
       "   variance  skewness  curtosis  entropy  class\n",
       "0   3.62160    8.6661  -2.80730 -0.44699      0\n",
       "1   4.54590    8.1674  -2.45860 -1.46210      0\n",
       "2   3.86600   -2.6383   1.92420  0.10645      0\n",
       "3   3.45660    9.5228  -4.01120 -3.59440      0\n",
       "4   0.32924   -4.4552   4.57180 -0.98880      0\n",
       "5   4.36840    9.6718  -3.96060 -3.16250      0\n",
       "6   3.59120    3.0129   0.72888  0.56421      0\n",
       "7   2.09220   -6.8100   8.46360 -0.60216      0\n",
       "8   3.20320    5.7588  -0.75345 -0.61251      0\n",
       "9   1.53560    9.1772  -2.27180 -0.73535      0"
      ]
     },
     "execution_count": 3,
     "metadata": {},
     "output_type": "execute_result"
    }
   ],
   "source": [
    "df.head(10)"
   ]
  },
  {
   "cell_type": "code",
   "execution_count": 4,
   "metadata": {},
   "outputs": [
    {
     "data": {
      "text/html": [
       "<div>\n",
       "<style scoped>\n",
       "    .dataframe tbody tr th:only-of-type {\n",
       "        vertical-align: middle;\n",
       "    }\n",
       "\n",
       "    .dataframe tbody tr th {\n",
       "        vertical-align: top;\n",
       "    }\n",
       "\n",
       "    .dataframe thead th {\n",
       "        text-align: right;\n",
       "    }\n",
       "</style>\n",
       "<table border=\"1\" class=\"dataframe\">\n",
       "  <thead>\n",
       "    <tr style=\"text-align: right;\">\n",
       "      <th></th>\n",
       "      <th>variance</th>\n",
       "      <th>skewness</th>\n",
       "      <th>curtosis</th>\n",
       "      <th>entropy</th>\n",
       "      <th>class</th>\n",
       "    </tr>\n",
       "  </thead>\n",
       "  <tbody>\n",
       "    <tr>\n",
       "      <th>1362</th>\n",
       "      <td>-2.16680</td>\n",
       "      <td>1.59330</td>\n",
       "      <td>0.045122</td>\n",
       "      <td>-1.67800</td>\n",
       "      <td>1</td>\n",
       "    </tr>\n",
       "    <tr>\n",
       "      <th>1363</th>\n",
       "      <td>-1.16670</td>\n",
       "      <td>-1.42370</td>\n",
       "      <td>2.924100</td>\n",
       "      <td>0.66119</td>\n",
       "      <td>1</td>\n",
       "    </tr>\n",
       "    <tr>\n",
       "      <th>1364</th>\n",
       "      <td>-2.83910</td>\n",
       "      <td>-6.63000</td>\n",
       "      <td>10.484900</td>\n",
       "      <td>-0.42113</td>\n",
       "      <td>1</td>\n",
       "    </tr>\n",
       "    <tr>\n",
       "      <th>1365</th>\n",
       "      <td>-4.50460</td>\n",
       "      <td>-5.81260</td>\n",
       "      <td>10.886700</td>\n",
       "      <td>-0.52846</td>\n",
       "      <td>1</td>\n",
       "    </tr>\n",
       "    <tr>\n",
       "      <th>1366</th>\n",
       "      <td>-2.41000</td>\n",
       "      <td>3.74330</td>\n",
       "      <td>-0.402150</td>\n",
       "      <td>-1.29530</td>\n",
       "      <td>1</td>\n",
       "    </tr>\n",
       "    <tr>\n",
       "      <th>1367</th>\n",
       "      <td>0.40614</td>\n",
       "      <td>1.34920</td>\n",
       "      <td>-1.450100</td>\n",
       "      <td>-0.55949</td>\n",
       "      <td>1</td>\n",
       "    </tr>\n",
       "    <tr>\n",
       "      <th>1368</th>\n",
       "      <td>-1.38870</td>\n",
       "      <td>-4.87730</td>\n",
       "      <td>6.477400</td>\n",
       "      <td>0.34179</td>\n",
       "      <td>1</td>\n",
       "    </tr>\n",
       "    <tr>\n",
       "      <th>1369</th>\n",
       "      <td>-3.75030</td>\n",
       "      <td>-13.45860</td>\n",
       "      <td>17.593200</td>\n",
       "      <td>-2.77710</td>\n",
       "      <td>1</td>\n",
       "    </tr>\n",
       "    <tr>\n",
       "      <th>1370</th>\n",
       "      <td>-3.56370</td>\n",
       "      <td>-8.38270</td>\n",
       "      <td>12.393000</td>\n",
       "      <td>-1.28230</td>\n",
       "      <td>1</td>\n",
       "    </tr>\n",
       "    <tr>\n",
       "      <th>1371</th>\n",
       "      <td>-2.54190</td>\n",
       "      <td>-0.65804</td>\n",
       "      <td>2.684200</td>\n",
       "      <td>1.19520</td>\n",
       "      <td>1</td>\n",
       "    </tr>\n",
       "  </tbody>\n",
       "</table>\n",
       "</div>"
      ],
      "text/plain": [
       "      variance  skewness   curtosis  entropy  class\n",
       "1362  -2.16680   1.59330   0.045122 -1.67800      1\n",
       "1363  -1.16670  -1.42370   2.924100  0.66119      1\n",
       "1364  -2.83910  -6.63000  10.484900 -0.42113      1\n",
       "1365  -4.50460  -5.81260  10.886700 -0.52846      1\n",
       "1366  -2.41000   3.74330  -0.402150 -1.29530      1\n",
       "1367   0.40614   1.34920  -1.450100 -0.55949      1\n",
       "1368  -1.38870  -4.87730   6.477400  0.34179      1\n",
       "1369  -3.75030 -13.45860  17.593200 -2.77710      1\n",
       "1370  -3.56370  -8.38270  12.393000 -1.28230      1\n",
       "1371  -2.54190  -0.65804   2.684200  1.19520      1"
      ]
     },
     "execution_count": 4,
     "metadata": {},
     "output_type": "execute_result"
    }
   ],
   "source": [
    "df.tail(10)"
   ]
  },
  {
   "cell_type": "code",
   "execution_count": 5,
   "metadata": {},
   "outputs": [
    {
     "data": {
      "text/plain": [
       "(1372, 5)"
      ]
     },
     "execution_count": 5,
     "metadata": {},
     "output_type": "execute_result"
    }
   ],
   "source": [
    "df.shape"
   ]
  },
  {
   "cell_type": "code",
   "execution_count": 6,
   "metadata": {},
   "outputs": [
    {
     "data": {
      "text/html": [
       "<div>\n",
       "<style scoped>\n",
       "    .dataframe tbody tr th:only-of-type {\n",
       "        vertical-align: middle;\n",
       "    }\n",
       "\n",
       "    .dataframe tbody tr th {\n",
       "        vertical-align: top;\n",
       "    }\n",
       "\n",
       "    .dataframe thead th {\n",
       "        text-align: right;\n",
       "    }\n",
       "</style>\n",
       "<table border=\"1\" class=\"dataframe\">\n",
       "  <thead>\n",
       "    <tr style=\"text-align: right;\">\n",
       "      <th></th>\n",
       "      <th>variance</th>\n",
       "      <th>skewness</th>\n",
       "      <th>curtosis</th>\n",
       "      <th>entropy</th>\n",
       "      <th>class</th>\n",
       "    </tr>\n",
       "  </thead>\n",
       "  <tbody>\n",
       "    <tr>\n",
       "      <th>count</th>\n",
       "      <td>1372.000000</td>\n",
       "      <td>1372.000000</td>\n",
       "      <td>1372.000000</td>\n",
       "      <td>1372.000000</td>\n",
       "      <td>1372.000000</td>\n",
       "    </tr>\n",
       "    <tr>\n",
       "      <th>mean</th>\n",
       "      <td>0.433735</td>\n",
       "      <td>1.922353</td>\n",
       "      <td>1.397627</td>\n",
       "      <td>-1.191657</td>\n",
       "      <td>0.444606</td>\n",
       "    </tr>\n",
       "    <tr>\n",
       "      <th>std</th>\n",
       "      <td>2.842763</td>\n",
       "      <td>5.869047</td>\n",
       "      <td>4.310030</td>\n",
       "      <td>2.101013</td>\n",
       "      <td>0.497103</td>\n",
       "    </tr>\n",
       "    <tr>\n",
       "      <th>min</th>\n",
       "      <td>-7.042100</td>\n",
       "      <td>-13.773100</td>\n",
       "      <td>-5.286100</td>\n",
       "      <td>-8.548200</td>\n",
       "      <td>0.000000</td>\n",
       "    </tr>\n",
       "    <tr>\n",
       "      <th>25%</th>\n",
       "      <td>-1.773000</td>\n",
       "      <td>-1.708200</td>\n",
       "      <td>-1.574975</td>\n",
       "      <td>-2.413450</td>\n",
       "      <td>0.000000</td>\n",
       "    </tr>\n",
       "    <tr>\n",
       "      <th>50%</th>\n",
       "      <td>0.496180</td>\n",
       "      <td>2.319650</td>\n",
       "      <td>0.616630</td>\n",
       "      <td>-0.586650</td>\n",
       "      <td>0.000000</td>\n",
       "    </tr>\n",
       "    <tr>\n",
       "      <th>75%</th>\n",
       "      <td>2.821475</td>\n",
       "      <td>6.814625</td>\n",
       "      <td>3.179250</td>\n",
       "      <td>0.394810</td>\n",
       "      <td>1.000000</td>\n",
       "    </tr>\n",
       "    <tr>\n",
       "      <th>max</th>\n",
       "      <td>6.824800</td>\n",
       "      <td>12.951600</td>\n",
       "      <td>17.927400</td>\n",
       "      <td>2.449500</td>\n",
       "      <td>1.000000</td>\n",
       "    </tr>\n",
       "  </tbody>\n",
       "</table>\n",
       "</div>"
      ],
      "text/plain": [
       "          variance     skewness     curtosis      entropy        class\n",
       "count  1372.000000  1372.000000  1372.000000  1372.000000  1372.000000\n",
       "mean      0.433735     1.922353     1.397627    -1.191657     0.444606\n",
       "std       2.842763     5.869047     4.310030     2.101013     0.497103\n",
       "min      -7.042100   -13.773100    -5.286100    -8.548200     0.000000\n",
       "25%      -1.773000    -1.708200    -1.574975    -2.413450     0.000000\n",
       "50%       0.496180     2.319650     0.616630    -0.586650     0.000000\n",
       "75%       2.821475     6.814625     3.179250     0.394810     1.000000\n",
       "max       6.824800    12.951600    17.927400     2.449500     1.000000"
      ]
     },
     "execution_count": 6,
     "metadata": {},
     "output_type": "execute_result"
    }
   ],
   "source": [
    "df.describe()"
   ]
  },
  {
   "cell_type": "code",
   "execution_count": 10,
   "metadata": {},
   "outputs": [],
   "source": [
    "## Segregating Depenedent and Independent Attributes using iloc\n",
    "## x -> Independent, y -> Dependent\n",
    "x = df.iloc[:,:-1]\n",
    "y = df.iloc[:,-1]"
   ]
  },
  {
   "cell_type": "code",
   "execution_count": 11,
   "metadata": {},
   "outputs": [
    {
     "data": {
      "text/html": [
       "<div>\n",
       "<style scoped>\n",
       "    .dataframe tbody tr th:only-of-type {\n",
       "        vertical-align: middle;\n",
       "    }\n",
       "\n",
       "    .dataframe tbody tr th {\n",
       "        vertical-align: top;\n",
       "    }\n",
       "\n",
       "    .dataframe thead th {\n",
       "        text-align: right;\n",
       "    }\n",
       "</style>\n",
       "<table border=\"1\" class=\"dataframe\">\n",
       "  <thead>\n",
       "    <tr style=\"text-align: right;\">\n",
       "      <th></th>\n",
       "      <th>variance</th>\n",
       "      <th>skewness</th>\n",
       "      <th>curtosis</th>\n",
       "      <th>entropy</th>\n",
       "      <th>class</th>\n",
       "    </tr>\n",
       "  </thead>\n",
       "  <tbody>\n",
       "    <tr>\n",
       "      <th>0</th>\n",
       "      <td>False</td>\n",
       "      <td>False</td>\n",
       "      <td>False</td>\n",
       "      <td>False</td>\n",
       "      <td>False</td>\n",
       "    </tr>\n",
       "    <tr>\n",
       "      <th>1</th>\n",
       "      <td>False</td>\n",
       "      <td>False</td>\n",
       "      <td>False</td>\n",
       "      <td>False</td>\n",
       "      <td>False</td>\n",
       "    </tr>\n",
       "    <tr>\n",
       "      <th>2</th>\n",
       "      <td>False</td>\n",
       "      <td>False</td>\n",
       "      <td>False</td>\n",
       "      <td>False</td>\n",
       "      <td>False</td>\n",
       "    </tr>\n",
       "    <tr>\n",
       "      <th>3</th>\n",
       "      <td>False</td>\n",
       "      <td>False</td>\n",
       "      <td>False</td>\n",
       "      <td>False</td>\n",
       "      <td>False</td>\n",
       "    </tr>\n",
       "    <tr>\n",
       "      <th>4</th>\n",
       "      <td>False</td>\n",
       "      <td>False</td>\n",
       "      <td>False</td>\n",
       "      <td>False</td>\n",
       "      <td>False</td>\n",
       "    </tr>\n",
       "    <tr>\n",
       "      <th>...</th>\n",
       "      <td>...</td>\n",
       "      <td>...</td>\n",
       "      <td>...</td>\n",
       "      <td>...</td>\n",
       "      <td>...</td>\n",
       "    </tr>\n",
       "    <tr>\n",
       "      <th>1367</th>\n",
       "      <td>False</td>\n",
       "      <td>False</td>\n",
       "      <td>False</td>\n",
       "      <td>False</td>\n",
       "      <td>False</td>\n",
       "    </tr>\n",
       "    <tr>\n",
       "      <th>1368</th>\n",
       "      <td>False</td>\n",
       "      <td>False</td>\n",
       "      <td>False</td>\n",
       "      <td>False</td>\n",
       "      <td>False</td>\n",
       "    </tr>\n",
       "    <tr>\n",
       "      <th>1369</th>\n",
       "      <td>False</td>\n",
       "      <td>False</td>\n",
       "      <td>False</td>\n",
       "      <td>False</td>\n",
       "      <td>False</td>\n",
       "    </tr>\n",
       "    <tr>\n",
       "      <th>1370</th>\n",
       "      <td>False</td>\n",
       "      <td>False</td>\n",
       "      <td>False</td>\n",
       "      <td>False</td>\n",
       "      <td>False</td>\n",
       "    </tr>\n",
       "    <tr>\n",
       "      <th>1371</th>\n",
       "      <td>False</td>\n",
       "      <td>False</td>\n",
       "      <td>False</td>\n",
       "      <td>False</td>\n",
       "      <td>False</td>\n",
       "    </tr>\n",
       "  </tbody>\n",
       "</table>\n",
       "<p>1372 rows × 5 columns</p>\n",
       "</div>"
      ],
      "text/plain": [
       "      variance  skewness  curtosis  entropy  class\n",
       "0        False     False     False    False  False\n",
       "1        False     False     False    False  False\n",
       "2        False     False     False    False  False\n",
       "3        False     False     False    False  False\n",
       "4        False     False     False    False  False\n",
       "...        ...       ...       ...      ...    ...\n",
       "1367     False     False     False    False  False\n",
       "1368     False     False     False    False  False\n",
       "1369     False     False     False    False  False\n",
       "1370     False     False     False    False  False\n",
       "1371     False     False     False    False  False\n",
       "\n",
       "[1372 rows x 5 columns]"
      ]
     },
     "execution_count": 11,
     "metadata": {},
     "output_type": "execute_result"
    }
   ],
   "source": [
    "# Check Null Values\n",
    "df.isnull()"
   ]
  },
  {
   "cell_type": "code",
   "execution_count": 12,
   "metadata": {},
   "outputs": [
    {
     "name": "stdout",
     "output_type": "stream",
     "text": [
      "0\n",
      "0\n",
      "0\n",
      "0\n"
     ]
    }
   ],
   "source": [
    "## Checking for Null Values for each Column\n",
    "print(x['variance'].isna().sum())\n",
    "print(x['skewness'].isna().sum())\n",
    "print(x['curtosis'].isna().sum())\n",
    "print(x['entropy'].isna().sum())"
   ]
  },
  {
   "cell_type": "code",
   "execution_count": 13,
   "metadata": {},
   "outputs": [
    {
     "data": {
      "text/html": [
       "<div>\n",
       "<style scoped>\n",
       "    .dataframe tbody tr th:only-of-type {\n",
       "        vertical-align: middle;\n",
       "    }\n",
       "\n",
       "    .dataframe tbody tr th {\n",
       "        vertical-align: top;\n",
       "    }\n",
       "\n",
       "    .dataframe thead th {\n",
       "        text-align: right;\n",
       "    }\n",
       "</style>\n",
       "<table border=\"1\" class=\"dataframe\">\n",
       "  <thead>\n",
       "    <tr style=\"text-align: right;\">\n",
       "      <th></th>\n",
       "      <th>variance</th>\n",
       "      <th>skewness</th>\n",
       "      <th>curtosis</th>\n",
       "      <th>entropy</th>\n",
       "    </tr>\n",
       "  </thead>\n",
       "  <tbody>\n",
       "    <tr>\n",
       "      <th>0</th>\n",
       "      <td>3.62160</td>\n",
       "      <td>8.66610</td>\n",
       "      <td>-2.8073</td>\n",
       "      <td>-0.44699</td>\n",
       "    </tr>\n",
       "    <tr>\n",
       "      <th>1</th>\n",
       "      <td>4.54590</td>\n",
       "      <td>8.16740</td>\n",
       "      <td>-2.4586</td>\n",
       "      <td>-1.46210</td>\n",
       "    </tr>\n",
       "    <tr>\n",
       "      <th>2</th>\n",
       "      <td>3.86600</td>\n",
       "      <td>-2.63830</td>\n",
       "      <td>1.9242</td>\n",
       "      <td>0.10645</td>\n",
       "    </tr>\n",
       "    <tr>\n",
       "      <th>3</th>\n",
       "      <td>3.45660</td>\n",
       "      <td>9.52280</td>\n",
       "      <td>-4.0112</td>\n",
       "      <td>-3.59440</td>\n",
       "    </tr>\n",
       "    <tr>\n",
       "      <th>4</th>\n",
       "      <td>0.32924</td>\n",
       "      <td>-4.45520</td>\n",
       "      <td>4.5718</td>\n",
       "      <td>-0.98880</td>\n",
       "    </tr>\n",
       "    <tr>\n",
       "      <th>...</th>\n",
       "      <td>...</td>\n",
       "      <td>...</td>\n",
       "      <td>...</td>\n",
       "      <td>...</td>\n",
       "    </tr>\n",
       "    <tr>\n",
       "      <th>1367</th>\n",
       "      <td>0.40614</td>\n",
       "      <td>1.34920</td>\n",
       "      <td>-1.4501</td>\n",
       "      <td>-0.55949</td>\n",
       "    </tr>\n",
       "    <tr>\n",
       "      <th>1368</th>\n",
       "      <td>-1.38870</td>\n",
       "      <td>-4.87730</td>\n",
       "      <td>6.4774</td>\n",
       "      <td>0.34179</td>\n",
       "    </tr>\n",
       "    <tr>\n",
       "      <th>1369</th>\n",
       "      <td>-3.75030</td>\n",
       "      <td>-13.45860</td>\n",
       "      <td>17.5932</td>\n",
       "      <td>-2.77710</td>\n",
       "    </tr>\n",
       "    <tr>\n",
       "      <th>1370</th>\n",
       "      <td>-3.56370</td>\n",
       "      <td>-8.38270</td>\n",
       "      <td>12.3930</td>\n",
       "      <td>-1.28230</td>\n",
       "    </tr>\n",
       "    <tr>\n",
       "      <th>1371</th>\n",
       "      <td>-2.54190</td>\n",
       "      <td>-0.65804</td>\n",
       "      <td>2.6842</td>\n",
       "      <td>1.19520</td>\n",
       "    </tr>\n",
       "  </tbody>\n",
       "</table>\n",
       "<p>1372 rows × 4 columns</p>\n",
       "</div>"
      ],
      "text/plain": [
       "      variance  skewness  curtosis  entropy\n",
       "0      3.62160   8.66610   -2.8073 -0.44699\n",
       "1      4.54590   8.16740   -2.4586 -1.46210\n",
       "2      3.86600  -2.63830    1.9242  0.10645\n",
       "3      3.45660   9.52280   -4.0112 -3.59440\n",
       "4      0.32924  -4.45520    4.5718 -0.98880\n",
       "...        ...       ...       ...      ...\n",
       "1367   0.40614   1.34920   -1.4501 -0.55949\n",
       "1368  -1.38870  -4.87730    6.4774  0.34179\n",
       "1369  -3.75030 -13.45860   17.5932 -2.77710\n",
       "1370  -3.56370  -8.38270   12.3930 -1.28230\n",
       "1371  -2.54190  -0.65804    2.6842  1.19520\n",
       "\n",
       "[1372 rows x 4 columns]"
      ]
     },
     "execution_count": 13,
     "metadata": {},
     "output_type": "execute_result"
    }
   ],
   "source": [
    "x"
   ]
  },
  {
   "cell_type": "code",
   "execution_count": 14,
   "metadata": {},
   "outputs": [
    {
     "data": {
      "text/plain": [
       "0       0\n",
       "1       0\n",
       "2       0\n",
       "3       0\n",
       "4       0\n",
       "       ..\n",
       "1367    1\n",
       "1368    1\n",
       "1369    1\n",
       "1370    1\n",
       "1371    1\n",
       "Name: class, Length: 1372, dtype: int64"
      ]
     },
     "execution_count": 14,
     "metadata": {},
     "output_type": "execute_result"
    }
   ],
   "source": [
    "y"
   ]
  },
  {
   "cell_type": "code",
   "execution_count": 15,
   "metadata": {},
   "outputs": [],
   "source": [
    "## Importing Train Test Split\n",
    "from sklearn.model_selection import train_test_split"
   ]
  },
  {
   "cell_type": "code",
   "execution_count": 16,
   "metadata": {},
   "outputs": [],
   "source": [
    "## Splitting Dataset into Training Set and Test Set\n",
    "x_train, x_test, y_train, y_test = train_test_split(x, y, test_size = 0.3, random_state = 0)"
   ]
  },
  {
   "cell_type": "code",
   "execution_count": 17,
   "metadata": {},
   "outputs": [
    {
     "data": {
      "text/html": [
       "<div>\n",
       "<style scoped>\n",
       "    .dataframe tbody tr th:only-of-type {\n",
       "        vertical-align: middle;\n",
       "    }\n",
       "\n",
       "    .dataframe tbody tr th {\n",
       "        vertical-align: top;\n",
       "    }\n",
       "\n",
       "    .dataframe thead th {\n",
       "        text-align: right;\n",
       "    }\n",
       "</style>\n",
       "<table border=\"1\" class=\"dataframe\">\n",
       "  <thead>\n",
       "    <tr style=\"text-align: right;\">\n",
       "      <th></th>\n",
       "      <th>variance</th>\n",
       "      <th>skewness</th>\n",
       "      <th>curtosis</th>\n",
       "      <th>entropy</th>\n",
       "    </tr>\n",
       "  </thead>\n",
       "  <tbody>\n",
       "    <tr>\n",
       "      <th>122</th>\n",
       "      <td>-1.45720</td>\n",
       "      <td>9.121400</td>\n",
       "      <td>1.742500</td>\n",
       "      <td>-5.124100</td>\n",
       "    </tr>\n",
       "    <tr>\n",
       "      <th>1356</th>\n",
       "      <td>-4.07860</td>\n",
       "      <td>2.923900</td>\n",
       "      <td>0.870260</td>\n",
       "      <td>-0.653890</td>\n",
       "    </tr>\n",
       "    <tr>\n",
       "      <th>1015</th>\n",
       "      <td>-0.90784</td>\n",
       "      <td>-7.902600</td>\n",
       "      <td>6.780700</td>\n",
       "      <td>0.341790</td>\n",
       "    </tr>\n",
       "    <tr>\n",
       "      <th>1163</th>\n",
       "      <td>0.68180</td>\n",
       "      <td>4.850400</td>\n",
       "      <td>-5.213300</td>\n",
       "      <td>-6.104300</td>\n",
       "    </tr>\n",
       "    <tr>\n",
       "      <th>1034</th>\n",
       "      <td>0.67886</td>\n",
       "      <td>4.119900</td>\n",
       "      <td>-4.569000</td>\n",
       "      <td>-4.141400</td>\n",
       "    </tr>\n",
       "    <tr>\n",
       "      <th>...</th>\n",
       "      <td>...</td>\n",
       "      <td>...</td>\n",
       "      <td>...</td>\n",
       "      <td>...</td>\n",
       "    </tr>\n",
       "    <tr>\n",
       "      <th>763</th>\n",
       "      <td>0.39012</td>\n",
       "      <td>-0.142790</td>\n",
       "      <td>-0.031994</td>\n",
       "      <td>0.350840</td>\n",
       "    </tr>\n",
       "    <tr>\n",
       "      <th>835</th>\n",
       "      <td>-0.94255</td>\n",
       "      <td>0.039307</td>\n",
       "      <td>-0.241920</td>\n",
       "      <td>0.315930</td>\n",
       "    </tr>\n",
       "    <tr>\n",
       "      <th>1216</th>\n",
       "      <td>0.60050</td>\n",
       "      <td>0.999450</td>\n",
       "      <td>-2.212600</td>\n",
       "      <td>0.097399</td>\n",
       "    </tr>\n",
       "    <tr>\n",
       "      <th>559</th>\n",
       "      <td>2.01650</td>\n",
       "      <td>-0.252460</td>\n",
       "      <td>5.170700</td>\n",
       "      <td>1.076300</td>\n",
       "    </tr>\n",
       "    <tr>\n",
       "      <th>684</th>\n",
       "      <td>-2.07590</td>\n",
       "      <td>10.822300</td>\n",
       "      <td>2.643900</td>\n",
       "      <td>-4.837000</td>\n",
       "    </tr>\n",
       "  </tbody>\n",
       "</table>\n",
       "<p>960 rows × 4 columns</p>\n",
       "</div>"
      ],
      "text/plain": [
       "      variance   skewness  curtosis   entropy\n",
       "122   -1.45720   9.121400  1.742500 -5.124100\n",
       "1356  -4.07860   2.923900  0.870260 -0.653890\n",
       "1015  -0.90784  -7.902600  6.780700  0.341790\n",
       "1163   0.68180   4.850400 -5.213300 -6.104300\n",
       "1034   0.67886   4.119900 -4.569000 -4.141400\n",
       "...        ...        ...       ...       ...\n",
       "763    0.39012  -0.142790 -0.031994  0.350840\n",
       "835   -0.94255   0.039307 -0.241920  0.315930\n",
       "1216   0.60050   0.999450 -2.212600  0.097399\n",
       "559    2.01650  -0.252460  5.170700  1.076300\n",
       "684   -2.07590  10.822300  2.643900 -4.837000\n",
       "\n",
       "[960 rows x 4 columns]"
      ]
     },
     "execution_count": 17,
     "metadata": {},
     "output_type": "execute_result"
    }
   ],
   "source": [
    "x_train"
   ]
  },
  {
   "cell_type": "code",
   "execution_count": 18,
   "metadata": {},
   "outputs": [
    {
     "data": {
      "text/html": [
       "<div>\n",
       "<style scoped>\n",
       "    .dataframe tbody tr th:only-of-type {\n",
       "        vertical-align: middle;\n",
       "    }\n",
       "\n",
       "    .dataframe tbody tr th {\n",
       "        vertical-align: top;\n",
       "    }\n",
       "\n",
       "    .dataframe thead th {\n",
       "        text-align: right;\n",
       "    }\n",
       "</style>\n",
       "<table border=\"1\" class=\"dataframe\">\n",
       "  <thead>\n",
       "    <tr style=\"text-align: right;\">\n",
       "      <th></th>\n",
       "      <th>variance</th>\n",
       "      <th>skewness</th>\n",
       "      <th>curtosis</th>\n",
       "      <th>entropy</th>\n",
       "    </tr>\n",
       "  </thead>\n",
       "  <tbody>\n",
       "    <tr>\n",
       "      <th>1023</th>\n",
       "      <td>-1.77130</td>\n",
       "      <td>-10.766500</td>\n",
       "      <td>10.21840</td>\n",
       "      <td>-1.00430</td>\n",
       "    </tr>\n",
       "    <tr>\n",
       "      <th>642</th>\n",
       "      <td>5.13210</td>\n",
       "      <td>-0.031048</td>\n",
       "      <td>0.32616</td>\n",
       "      <td>1.11510</td>\n",
       "    </tr>\n",
       "    <tr>\n",
       "      <th>1196</th>\n",
       "      <td>-2.01490</td>\n",
       "      <td>3.687400</td>\n",
       "      <td>-1.93850</td>\n",
       "      <td>-3.89180</td>\n",
       "    </tr>\n",
       "    <tr>\n",
       "      <th>31</th>\n",
       "      <td>1.48840</td>\n",
       "      <td>3.627400</td>\n",
       "      <td>3.30800</td>\n",
       "      <td>0.48921</td>\n",
       "    </tr>\n",
       "    <tr>\n",
       "      <th>253</th>\n",
       "      <td>5.28680</td>\n",
       "      <td>3.257000</td>\n",
       "      <td>-1.37210</td>\n",
       "      <td>1.16680</td>\n",
       "    </tr>\n",
       "    <tr>\n",
       "      <th>...</th>\n",
       "      <td>...</td>\n",
       "      <td>...</td>\n",
       "      <td>...</td>\n",
       "      <td>...</td>\n",
       "    </tr>\n",
       "    <tr>\n",
       "      <th>986</th>\n",
       "      <td>0.84546</td>\n",
       "      <td>3.482600</td>\n",
       "      <td>-3.63070</td>\n",
       "      <td>-1.39610</td>\n",
       "    </tr>\n",
       "    <tr>\n",
       "      <th>271</th>\n",
       "      <td>5.39150</td>\n",
       "      <td>9.994600</td>\n",
       "      <td>-3.80810</td>\n",
       "      <td>-3.36420</td>\n",
       "    </tr>\n",
       "    <tr>\n",
       "      <th>1266</th>\n",
       "      <td>-1.43770</td>\n",
       "      <td>-1.432000</td>\n",
       "      <td>2.11440</td>\n",
       "      <td>0.42067</td>\n",
       "    </tr>\n",
       "    <tr>\n",
       "      <th>769</th>\n",
       "      <td>-0.89409</td>\n",
       "      <td>3.199100</td>\n",
       "      <td>-1.82190</td>\n",
       "      <td>-2.94520</td>\n",
       "    </tr>\n",
       "    <tr>\n",
       "      <th>634</th>\n",
       "      <td>6.82480</td>\n",
       "      <td>5.218700</td>\n",
       "      <td>-2.54250</td>\n",
       "      <td>0.54610</td>\n",
       "    </tr>\n",
       "  </tbody>\n",
       "</table>\n",
       "<p>412 rows × 4 columns</p>\n",
       "</div>"
      ],
      "text/plain": [
       "      variance   skewness  curtosis  entropy\n",
       "1023  -1.77130 -10.766500  10.21840 -1.00430\n",
       "642    5.13210  -0.031048   0.32616  1.11510\n",
       "1196  -2.01490   3.687400  -1.93850 -3.89180\n",
       "31     1.48840   3.627400   3.30800  0.48921\n",
       "253    5.28680   3.257000  -1.37210  1.16680\n",
       "...        ...        ...       ...      ...\n",
       "986    0.84546   3.482600  -3.63070 -1.39610\n",
       "271    5.39150   9.994600  -3.80810 -3.36420\n",
       "1266  -1.43770  -1.432000   2.11440  0.42067\n",
       "769   -0.89409   3.199100  -1.82190 -2.94520\n",
       "634    6.82480   5.218700  -2.54250  0.54610\n",
       "\n",
       "[412 rows x 4 columns]"
      ]
     },
     "execution_count": 18,
     "metadata": {},
     "output_type": "execute_result"
    }
   ],
   "source": [
    "x_test"
   ]
  },
  {
   "cell_type": "code",
   "execution_count": 19,
   "metadata": {},
   "outputs": [
    {
     "data": {
      "text/plain": [
       "122     0\n",
       "1356    1\n",
       "1015    1\n",
       "1163    1\n",
       "1034    1\n",
       "       ..\n",
       "763     1\n",
       "835     1\n",
       "1216    1\n",
       "559     0\n",
       "684     0\n",
       "Name: class, Length: 960, dtype: int64"
      ]
     },
     "execution_count": 19,
     "metadata": {},
     "output_type": "execute_result"
    }
   ],
   "source": [
    "y_train"
   ]
  },
  {
   "cell_type": "code",
   "execution_count": 20,
   "metadata": {},
   "outputs": [
    {
     "data": {
      "text/plain": [
       "1023    1\n",
       "642     0\n",
       "1196    1\n",
       "31      0\n",
       "253     0\n",
       "       ..\n",
       "986     1\n",
       "271     0\n",
       "1266    1\n",
       "769     1\n",
       "634     0\n",
       "Name: class, Length: 412, dtype: int64"
      ]
     },
     "execution_count": 20,
     "metadata": {},
     "output_type": "execute_result"
    }
   ],
   "source": [
    "y_test"
   ]
  },
  {
   "cell_type": "code",
   "execution_count": 21,
   "metadata": {},
   "outputs": [],
   "source": [
    "## Importing Random Forest Classifier\n",
    "from sklearn.ensemble import RandomForestClassifier\n",
    "from sklearn import tree"
   ]
  },
  {
   "cell_type": "code",
   "execution_count": 22,
   "metadata": {},
   "outputs": [
    {
     "data": {
      "text/plain": [
       "RandomForestClassifier()"
      ]
     },
     "execution_count": 22,
     "metadata": {},
     "output_type": "execute_result"
    }
   ],
   "source": [
    "classifierRF = RandomForestClassifier()\n",
    "classifierRF.fit(x_train,y_train)"
   ]
  },
  {
   "cell_type": "code",
   "execution_count": 23,
   "metadata": {},
   "outputs": [
    {
     "data": {
      "text/plain": [
       "[DecisionTreeClassifier(max_features='auto', random_state=1253940609),\n",
       " DecisionTreeClassifier(max_features='auto', random_state=1686804397),\n",
       " DecisionTreeClassifier(max_features='auto', random_state=1358905591),\n",
       " DecisionTreeClassifier(max_features='auto', random_state=761395257),\n",
       " DecisionTreeClassifier(max_features='auto', random_state=679035694),\n",
       " DecisionTreeClassifier(max_features='auto', random_state=1955829373),\n",
       " DecisionTreeClassifier(max_features='auto', random_state=869398969),\n",
       " DecisionTreeClassifier(max_features='auto', random_state=1849961457),\n",
       " DecisionTreeClassifier(max_features='auto', random_state=449765892),\n",
       " DecisionTreeClassifier(max_features='auto', random_state=1424102025),\n",
       " DecisionTreeClassifier(max_features='auto', random_state=337117842),\n",
       " DecisionTreeClassifier(max_features='auto', random_state=864389399),\n",
       " DecisionTreeClassifier(max_features='auto', random_state=1179578915),\n",
       " DecisionTreeClassifier(max_features='auto', random_state=1358741632),\n",
       " DecisionTreeClassifier(max_features='auto', random_state=1091503540),\n",
       " DecisionTreeClassifier(max_features='auto', random_state=1216743338),\n",
       " DecisionTreeClassifier(max_features='auto', random_state=1649788455),\n",
       " DecisionTreeClassifier(max_features='auto', random_state=488348548),\n",
       " DecisionTreeClassifier(max_features='auto', random_state=226512951),\n",
       " DecisionTreeClassifier(max_features='auto', random_state=1224567634),\n",
       " DecisionTreeClassifier(max_features='auto', random_state=1573833544),\n",
       " DecisionTreeClassifier(max_features='auto', random_state=1634646655),\n",
       " DecisionTreeClassifier(max_features='auto', random_state=1096212167),\n",
       " DecisionTreeClassifier(max_features='auto', random_state=1021100174),\n",
       " DecisionTreeClassifier(max_features='auto', random_state=1608707068),\n",
       " DecisionTreeClassifier(max_features='auto', random_state=1636475565),\n",
       " DecisionTreeClassifier(max_features='auto', random_state=1590135659),\n",
       " DecisionTreeClassifier(max_features='auto', random_state=760838200),\n",
       " DecisionTreeClassifier(max_features='auto', random_state=1284581139),\n",
       " DecisionTreeClassifier(max_features='auto', random_state=1361435447),\n",
       " DecisionTreeClassifier(max_features='auto', random_state=1215536373),\n",
       " DecisionTreeClassifier(max_features='auto', random_state=252578455),\n",
       " DecisionTreeClassifier(max_features='auto', random_state=806331921),\n",
       " DecisionTreeClassifier(max_features='auto', random_state=1906301359),\n",
       " DecisionTreeClassifier(max_features='auto', random_state=707507836),\n",
       " DecisionTreeClassifier(max_features='auto', random_state=943843260),\n",
       " DecisionTreeClassifier(max_features='auto', random_state=1819882006),\n",
       " DecisionTreeClassifier(max_features='auto', random_state=648319595),\n",
       " DecisionTreeClassifier(max_features='auto', random_state=184030826),\n",
       " DecisionTreeClassifier(max_features='auto', random_state=2069601412),\n",
       " DecisionTreeClassifier(max_features='auto', random_state=599132007),\n",
       " DecisionTreeClassifier(max_features='auto', random_state=1945026855),\n",
       " DecisionTreeClassifier(max_features='auto', random_state=1325999528),\n",
       " DecisionTreeClassifier(max_features='auto', random_state=429730853),\n",
       " DecisionTreeClassifier(max_features='auto', random_state=1298061659),\n",
       " DecisionTreeClassifier(max_features='auto', random_state=374878509),\n",
       " DecisionTreeClassifier(max_features='auto', random_state=48688333),\n",
       " DecisionTreeClassifier(max_features='auto', random_state=1234985525),\n",
       " DecisionTreeClassifier(max_features='auto', random_state=295758835),\n",
       " DecisionTreeClassifier(max_features='auto', random_state=1302673615),\n",
       " DecisionTreeClassifier(max_features='auto', random_state=2012928493),\n",
       " DecisionTreeClassifier(max_features='auto', random_state=1925873778),\n",
       " DecisionTreeClassifier(max_features='auto', random_state=232116513),\n",
       " DecisionTreeClassifier(max_features='auto', random_state=1107841135),\n",
       " DecisionTreeClassifier(max_features='auto', random_state=1307322356),\n",
       " DecisionTreeClassifier(max_features='auto', random_state=1089390783),\n",
       " DecisionTreeClassifier(max_features='auto', random_state=800851226),\n",
       " DecisionTreeClassifier(max_features='auto', random_state=339405492),\n",
       " DecisionTreeClassifier(max_features='auto', random_state=743982055),\n",
       " DecisionTreeClassifier(max_features='auto', random_state=1366830145),\n",
       " DecisionTreeClassifier(max_features='auto', random_state=643067997),\n",
       " DecisionTreeClassifier(max_features='auto', random_state=643993728),\n",
       " DecisionTreeClassifier(max_features='auto', random_state=2004134703),\n",
       " DecisionTreeClassifier(max_features='auto', random_state=1460859589),\n",
       " DecisionTreeClassifier(max_features='auto', random_state=111247142),\n",
       " DecisionTreeClassifier(max_features='auto', random_state=21720977),\n",
       " DecisionTreeClassifier(max_features='auto', random_state=256906113),\n",
       " DecisionTreeClassifier(max_features='auto', random_state=1534494945),\n",
       " DecisionTreeClassifier(max_features='auto', random_state=1420139102),\n",
       " DecisionTreeClassifier(max_features='auto', random_state=1871581544),\n",
       " DecisionTreeClassifier(max_features='auto', random_state=665797764),\n",
       " DecisionTreeClassifier(max_features='auto', random_state=984795334),\n",
       " DecisionTreeClassifier(max_features='auto', random_state=69664881),\n",
       " DecisionTreeClassifier(max_features='auto', random_state=557181590),\n",
       " DecisionTreeClassifier(max_features='auto', random_state=1374841396),\n",
       " DecisionTreeClassifier(max_features='auto', random_state=796757406),\n",
       " DecisionTreeClassifier(max_features='auto', random_state=793828035),\n",
       " DecisionTreeClassifier(max_features='auto', random_state=567446740),\n",
       " DecisionTreeClassifier(max_features='auto', random_state=84917199),\n",
       " DecisionTreeClassifier(max_features='auto', random_state=406222832),\n",
       " DecisionTreeClassifier(max_features='auto', random_state=528672538),\n",
       " DecisionTreeClassifier(max_features='auto', random_state=1608879211),\n",
       " DecisionTreeClassifier(max_features='auto', random_state=197746656),\n",
       " DecisionTreeClassifier(max_features='auto', random_state=764836014),\n",
       " DecisionTreeClassifier(max_features='auto', random_state=1460051772),\n",
       " DecisionTreeClassifier(max_features='auto', random_state=210017304),\n",
       " DecisionTreeClassifier(max_features='auto', random_state=463549629),\n",
       " DecisionTreeClassifier(max_features='auto', random_state=1056099910),\n",
       " DecisionTreeClassifier(max_features='auto', random_state=407149337),\n",
       " DecisionTreeClassifier(max_features='auto', random_state=464963610),\n",
       " DecisionTreeClassifier(max_features='auto', random_state=1017663682),\n",
       " DecisionTreeClassifier(max_features='auto', random_state=608629446),\n",
       " DecisionTreeClassifier(max_features='auto', random_state=1593978834),\n",
       " DecisionTreeClassifier(max_features='auto', random_state=719801505),\n",
       " DecisionTreeClassifier(max_features='auto', random_state=1905481118),\n",
       " DecisionTreeClassifier(max_features='auto', random_state=307660227),\n",
       " DecisionTreeClassifier(max_features='auto', random_state=915810672),\n",
       " DecisionTreeClassifier(max_features='auto', random_state=1207907727),\n",
       " DecisionTreeClassifier(max_features='auto', random_state=2069511905),\n",
       " DecisionTreeClassifier(max_features='auto', random_state=2053672590)]"
      ]
     },
     "execution_count": 23,
     "metadata": {},
     "output_type": "execute_result"
    }
   ],
   "source": [
    "classifierRF.estimators_"
   ]
  },
  {
   "cell_type": "code",
   "execution_count": 24,
   "metadata": {},
   "outputs": [
    {
     "data": {
      "text/plain": [
       "[Text(436.695652173913, 498.3, 'X[1] <= 5.235\\ngini = 0.498\\nsamples = 613\\nvalue = [510, 450]'),\n",
       " Text(218.3478260869565, 407.70000000000005, 'X[0] <= 0.324\\ngini = 0.465\\nsamples = 422\\nvalue = [249, 429]'),\n",
       " Text(72.78260869565217, 317.1, 'X[2] <= 6.725\\ngini = 0.092\\nsamples = 237\\nvalue = [19, 376]'),\n",
       " Text(36.391304347826086, 226.5, 'gini = 0.0\\nsamples = 175\\nvalue = [0, 290]'),\n",
       " Text(109.17391304347825, 226.5, 'X[1] <= -3.298\\ngini = 0.296\\nsamples = 62\\nvalue = [19, 86]'),\n",
       " Text(72.78260869565217, 135.89999999999998, 'gini = 0.0\\nsamples = 50\\nvalue = [0, 86]'),\n",
       " Text(145.56521739130434, 135.89999999999998, 'gini = 0.0\\nsamples = 12\\nvalue = [19, 0]'),\n",
       " Text(363.9130434782609, 317.1, 'X[2] <= -1.76\\ngini = 0.304\\nsamples = 185\\nvalue = [230, 53]'),\n",
       " Text(254.7391304347826, 226.5, 'X[2] <= -2.159\\ngini = 0.111\\nsamples = 33\\nvalue = [3, 48]'),\n",
       " Text(218.3478260869565, 135.89999999999998, 'gini = 0.0\\nsamples = 28\\nvalue = [0, 43]'),\n",
       " Text(291.1304347826087, 135.89999999999998, 'X[0] <= 3.066\\ngini = 0.469\\nsamples = 5\\nvalue = [3, 5]'),\n",
       " Text(254.7391304347826, 45.299999999999955, 'gini = 0.0\\nsamples = 3\\nvalue = [0, 5]'),\n",
       " Text(327.52173913043475, 45.299999999999955, 'gini = 0.0\\nsamples = 2\\nvalue = [3, 0]'),\n",
       " Text(473.0869565217391, 226.5, 'X[0] <= 0.565\\ngini = 0.042\\nsamples = 152\\nvalue = [227, 5]'),\n",
       " Text(436.695652173913, 135.89999999999998, 'X[2] <= 0.47\\ngini = 0.34\\nsamples = 10\\nvalue = [18, 5]'),\n",
       " Text(400.30434782608694, 45.299999999999955, 'gini = 0.0\\nsamples = 3\\nvalue = [0, 5]'),\n",
       " Text(473.0869565217391, 45.299999999999955, 'gini = 0.0\\nsamples = 7\\nvalue = [18, 0]'),\n",
       " Text(509.4782608695652, 135.89999999999998, 'gini = 0.0\\nsamples = 142\\nvalue = [209, 0]'),\n",
       " Text(655.0434782608695, 407.70000000000005, 'X[3] <= -6.336\\ngini = 0.138\\nsamples = 191\\nvalue = [261, 21]'),\n",
       " Text(582.2608695652174, 317.1, 'X[0] <= -3.304\\ngini = 0.488\\nsamples = 14\\nvalue = [8, 11]'),\n",
       " Text(545.8695652173913, 226.5, 'gini = 0.0\\nsamples = 8\\nvalue = [0, 11]'),\n",
       " Text(618.6521739130435, 226.5, 'gini = 0.0\\nsamples = 6\\nvalue = [8, 0]'),\n",
       " Text(727.8260869565217, 317.1, 'X[2] <= -0.024\\ngini = 0.073\\nsamples = 177\\nvalue = [253, 10]'),\n",
       " Text(691.4347826086956, 226.5, 'gini = 0.0\\nsamples = 119\\nvalue = [173, 0]'),\n",
       " Text(764.2173913043478, 226.5, 'X[0] <= -3.368\\ngini = 0.198\\nsamples = 58\\nvalue = [80, 10]'),\n",
       " Text(727.8260869565217, 135.89999999999998, 'gini = 0.0\\nsamples = 9\\nvalue = [0, 10]'),\n",
       " Text(800.6086956521739, 135.89999999999998, 'gini = 0.0\\nsamples = 49\\nvalue = [80, 0]')]"
      ]
     },
     "execution_count": 24,
     "metadata": {},
     "output_type": "execute_result"
    },
    {
     "data": {
      "image/png": "[encoded data removed]",
      "text/plain": [
       "<Figure size 1080x720 with 1 Axes>"
      ]
     },
     "metadata": {
      "needs_background": "light"
     },
     "output_type": "display_data"
    }
   ],
   "source": [
    "plt.figure(figsize=(15,10))\n",
    "tree.plot_tree(classifierRF.estimators_[2], filled = True)"
   ]
  },
  {
   "cell_type": "code",
   "execution_count": 25,
   "metadata": {},
   "outputs": [
    {
     "data": {
      "text/plain": [
       "array([1, 0, 1, 0, 0, 0, 0, 0, 1, 1, 0, 0, 1, 0, 0, 0, 1, 1, 0, 0, 1, 0,\n",
       "       0, 1, 0, 1, 0, 1, 0, 0, 1, 0, 1, 1, 1, 0, 0, 1, 1, 1, 0, 1, 0, 0,\n",
       "       1, 1, 0, 0, 1, 0, 0, 1, 0, 1, 1, 0, 1, 1, 0, 1, 1, 0, 0, 0, 0, 1,\n",
       "       1, 1, 1, 0, 1, 0, 1, 0, 0, 1, 0, 0, 0, 0, 1, 1, 0, 0, 1, 1, 0, 0,\n",
       "       0, 0, 0, 1, 1, 1, 1, 0, 0, 0, 1, 1, 0, 1, 0, 0, 0, 1, 0, 1, 1, 1,\n",
       "       0, 1, 0, 0, 1, 0, 0, 0, 1, 1, 0, 0, 1, 1, 0, 1, 1, 0, 1, 0, 0, 0,\n",
       "       0, 0, 0, 1, 0, 0, 0, 0, 1, 0, 1, 1, 0, 0, 1, 0, 0, 1, 0, 0, 0, 0,\n",
       "       1, 0, 1, 0, 1, 0, 0, 1, 0, 1, 0, 1, 1, 0, 1, 1, 0, 1, 1, 1, 1, 0,\n",
       "       0, 0, 1, 1, 0, 1, 0, 0, 0, 1, 0, 1, 1, 0, 0, 0, 1, 0, 1, 0, 0, 0,\n",
       "       1, 1, 0, 0, 0, 0, 0, 0, 0, 0, 1, 0, 0, 1, 0, 0, 0, 1, 1, 0, 0, 0,\n",
       "       0, 0, 0, 0, 0, 1, 1, 0, 0, 0, 0, 1, 1, 0, 1, 1, 0, 0, 1, 1, 0, 1,\n",
       "       1, 0, 1, 0, 0, 0, 0, 0, 0, 1, 1, 1, 1, 0, 0, 1, 1, 1, 0, 0, 0, 1,\n",
       "       0, 0, 1, 0, 0, 1, 1, 0, 1, 1, 1, 1, 1, 1, 0, 0, 1, 1, 1, 0, 1, 0,\n",
       "       1, 0, 0, 1, 1, 1, 0, 1, 0, 0, 0, 0, 1, 0, 0, 1, 0, 1, 1, 1, 0, 0,\n",
       "       0, 0, 0, 0, 1, 0, 0, 1, 1, 1, 0, 0, 0, 0, 1, 1, 0, 1, 0, 1, 1, 0,\n",
       "       0, 0, 1, 1, 0, 1, 0, 0, 1, 0, 0, 0, 0, 0, 0, 1, 0, 1, 0, 1, 1, 0,\n",
       "       1, 0, 1, 1, 1, 1, 1, 1, 0, 1, 0, 0, 1, 1, 1, 1, 0, 0, 1, 0, 0, 0,\n",
       "       1, 0, 1, 0, 0, 1, 1, 0, 1, 0, 0, 0, 1, 1, 1, 0, 0, 1, 0, 0, 0, 1,\n",
       "       1, 0, 0, 0, 0, 0, 1, 0, 1, 0, 0, 1, 0, 1, 1, 0], dtype=int64)"
      ]
     },
     "execution_count": 25,
     "metadata": {},
     "output_type": "execute_result"
    }
   ],
   "source": [
    "## Prediction against x_test using RF\n",
    "y_predRF = classifierRF.predict(x_test)\n",
    "y_predRF"
   ]
  },
  {
   "cell_type": "code",
   "execution_count": 27,
   "metadata": {},
   "outputs": [],
   "source": [
    "## Check for Accuracy\n",
    "from sklearn.metrics import confusion_matrix, accuracy_score, plot_confusion_matrix"
   ]
  },
  {
   "cell_type": "code",
   "execution_count": 32,
   "metadata": {},
   "outputs": [],
   "source": [
    "## Calculating Score RF\n",
    "scoreRF = accuracy_score(y_test, y_predRF)"
   ]
  },
  {
   "cell_type": "code",
   "execution_count": 33,
   "metadata": {},
   "outputs": [],
   "source": [
    "## Creating Confusion Matrix RF\n",
    "cmRF = confusion_matrix(y_test, y_predRF)"
   ]
  },
  {
   "cell_type": "code",
   "execution_count": 30,
   "metadata": {},
   "outputs": [
    {
     "data": {
      "image/png": "[encoded data removed]",
      "text/plain": [
       "<Figure size 720x432 with 2 Axes>"
      ]
     },
     "metadata": {
      "needs_background": "light"
     },
     "output_type": "display_data"
    }
   ],
   "source": [
    "cmRFV = plot_confusion_matrix(classifierRF, x_test, y_test)\n",
    "cmRFV.ax_.set_title('Confusion Matrix Random Forest Classifier', color = 'black')\n",
    "plt.xlabel('Predicted', color = 'black')\n",
    "plt.ylabel('Actual', color = 'black')\n",
    "plt.gcf().axes[0].tick_params(colors = 'black')\n",
    "plt.gcf().axes[1].tick_params(colors = 'black')\n",
    "plt.gcf().set_size_inches(10,6)\n",
    "plt.show()"
   ]
  },
  {
   "cell_type": "code",
   "execution_count": 34,
   "metadata": {},
   "outputs": [
    {
     "name": "stdout",
     "output_type": "stream",
     "text": [
      "Random Forest Accuracy :  0.9878640776699029\n"
     ]
    }
   ],
   "source": [
    "print('Random Forest Accuracy : ',scoreRF)"
   ]
  },
  {
   "cell_type": "code",
   "execution_count": 35,
   "metadata": {},
   "outputs": [
    {
     "name": "stdout",
     "output_type": "stream",
     "text": [
      "Random Forest Confusion Matrix :  [[229   3]\n",
      " [  2 178]]\n"
     ]
    }
   ],
   "source": [
    "print('Random Forest Confusion Matrix : ',cmRF)"
   ]
  },
  {
   "cell_type": "code",
   "execution_count": 36,
   "metadata": {},
   "outputs": [],
   "source": [
    "## Importing Naive Bayes Classifier\n",
    "from sklearn.naive_bayes import GaussianNB"
   ]
  },
  {
   "cell_type": "code",
   "execution_count": 37,
   "metadata": {},
   "outputs": [
    {
     "data": {
      "text/plain": [
       "GaussianNB()"
      ]
     },
     "execution_count": 37,
     "metadata": {},
     "output_type": "execute_result"
    }
   ],
   "source": [
    "classifierNB = GaussianNB()\n",
    "classifierNB.fit(x_train, y_train)"
   ]
  },
  {
   "cell_type": "code",
   "execution_count": 38,
   "metadata": {},
   "outputs": [
    {
     "data": {
      "text/plain": [
       "array([1, 0, 1, 0, 0, 1, 0, 0, 1, 1, 0, 0, 1, 0, 0, 0, 1, 0, 0, 0, 1, 0,\n",
       "       0, 1, 1, 0, 0, 1, 0, 0, 1, 1, 1, 1, 1, 0, 0, 1, 0, 1, 1, 1, 0, 1,\n",
       "       1, 1, 0, 0, 1, 0, 0, 1, 1, 1, 1, 0, 1, 1, 1, 1, 0, 0, 1, 0, 0, 1,\n",
       "       1, 1, 0, 0, 0, 0, 1, 1, 0, 1, 0, 0, 0, 0, 1, 1, 0, 0, 1, 1, 0, 0,\n",
       "       0, 0, 0, 1, 1, 0, 1, 0, 0, 0, 1, 1, 0, 1, 0, 1, 0, 1, 0, 1, 1, 1,\n",
       "       0, 1, 0, 0, 1, 0, 0, 0, 1, 1, 0, 0, 1, 1, 0, 1, 0, 0, 0, 1, 0, 0,\n",
       "       0, 0, 0, 1, 0, 0, 0, 0, 1, 0, 1, 1, 0, 0, 0, 0, 0, 1, 0, 0, 0, 0,\n",
       "       1, 0, 0, 0, 1, 1, 0, 1, 1, 1, 0, 1, 1, 0, 1, 1, 0, 1, 1, 0, 1, 0,\n",
       "       0, 0, 1, 0, 0, 1, 1, 0, 0, 1, 0, 1, 1, 0, 0, 0, 0, 1, 1, 0, 0, 0,\n",
       "       1, 0, 0, 0, 0, 0, 1, 1, 0, 0, 0, 0, 0, 1, 0, 0, 0, 1, 0, 0, 0, 0,\n",
       "       0, 0, 0, 0, 0, 1, 0, 0, 1, 0, 1, 1, 1, 0, 1, 0, 0, 0, 1, 1, 0, 1,\n",
       "       1, 0, 1, 0, 0, 1, 0, 0, 1, 1, 1, 1, 1, 0, 0, 0, 1, 0, 0, 0, 0, 1,\n",
       "       0, 0, 1, 0, 0, 1, 1, 0, 1, 0, 1, 1, 0, 1, 0, 0, 1, 0, 1, 0, 0, 0,\n",
       "       0, 1, 0, 1, 1, 0, 0, 1, 1, 0, 0, 0, 1, 0, 0, 1, 0, 1, 1, 1, 1, 0,\n",
       "       0, 0, 0, 0, 1, 0, 1, 1, 1, 1, 0, 0, 1, 1, 0, 0, 0, 1, 0, 1, 1, 0,\n",
       "       0, 1, 1, 0, 0, 1, 0, 0, 1, 0, 0, 0, 0, 0, 0, 1, 0, 1, 0, 1, 1, 0,\n",
       "       1, 0, 1, 1, 1, 1, 1, 0, 0, 1, 0, 0, 1, 0, 1, 1, 0, 0, 1, 0, 0, 0,\n",
       "       1, 0, 1, 0, 0, 1, 1, 0, 1, 0, 0, 0, 1, 1, 0, 0, 0, 0, 0, 0, 0, 1,\n",
       "       1, 0, 0, 1, 0, 0, 1, 0, 1, 1, 1, 0, 0, 1, 1, 0], dtype=int64)"
      ]
     },
     "execution_count": 38,
     "metadata": {},
     "output_type": "execute_result"
    }
   ],
   "source": [
    "## Prediction against x_test using NB\n",
    "y_predNB = classifierNB.predict(x_test)\n",
    "y_predNB"
   ]
  },
  {
   "cell_type": "code",
   "execution_count": 39,
   "metadata": {},
   "outputs": [],
   "source": [
    "## Calculating Score NB\n",
    "scoreNB = accuracy_score(y_test, y_predNB)"
   ]
  },
  {
   "cell_type": "code",
   "execution_count": 40,
   "metadata": {},
   "outputs": [],
   "source": [
    "## Creating Confusion Matrix NB\n",
    "cmNB = confusion_matrix(y_test, y_predNB)"
   ]
  },
  {
   "cell_type": "code",
   "execution_count": 41,
   "metadata": {},
   "outputs": [
    {
     "data": {
      "image/png": "[encoded data removed]",
      "text/plain": [
       "<Figure size 720x432 with 2 Axes>"
      ]
     },
     "metadata": {
      "needs_background": "light"
     },
     "output_type": "display_data"
    }
   ],
   "source": [
    "cmNBV = plot_confusion_matrix(classifierNB, x_test, y_test)\n",
    "cmNBV.ax_.set_title('Confusion Matrix Naive Bayes Classifier', color = 'black')\n",
    "plt.xlabel('Predicted', color = 'black')\n",
    "plt.ylabel('Actual', color = 'black')\n",
    "plt.gcf().axes[0].tick_params(colors = 'black')\n",
    "plt.gcf().axes[1].tick_params(colors = 'black')\n",
    "plt.gcf().set_size_inches(10,6)\n",
    "plt.show()"
   ]
  },
  {
   "cell_type": "code",
   "execution_count": 44,
   "metadata": {},
   "outputs": [
    {
     "name": "stdout",
     "output_type": "stream",
     "text": [
      "Naive Bayes Accuracy :  0.8325242718446602\n"
     ]
    }
   ],
   "source": [
    "print('Naive Bayes Accuracy : ',scoreNB)"
   ]
  },
  {
   "cell_type": "code",
   "execution_count": 45,
   "metadata": {},
   "outputs": [
    {
     "name": "stdout",
     "output_type": "stream",
     "text": [
      "Naive Bayes Confusion Matrix :  [[199  33]\n",
      " [ 36 144]]\n"
     ]
    }
   ],
   "source": [
    "print('Naive Bayes Confusion Matrix : ',cmNB)"
   ]
  },
  {
   "cell_type": "code",
   "execution_count": 43,
   "metadata": {},
   "outputs": [],
   "source": [
    "## Creating a Model for Reuse\n",
    "import pickle\n",
    "pickle_out = open(\"classifierRF.pkl\",\"wb\")\n",
    "pickle.dump(classifierRF, pickle_out)\n",
    "pickle_out.close()"
   ]
  },
  {
   "cell_type": "code",
   "execution_count": null,
   "metadata": {},
   "outputs": [],
   "source": []
  }
 ],
 "metadata": {
  "kernelspec": {
   "display_name": "Python 3",
   "language": "python",
   "name": "python3"
  },
  "language_info": {
   "codemirror_mode": {
    "name": "ipython",
    "version": 3
   },
   "file_extension": ".py",
   "mimetype": "text/x-python",
   "name": "python",
   "nbconvert_exporter": "python",
   "pygments_lexer": "ipython3",
   "version": "3.7.1"
  }
 },
 "nbformat": 4,
 "nbformat_minor": 4
}
